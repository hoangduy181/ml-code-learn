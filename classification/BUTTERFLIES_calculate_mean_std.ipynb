{
 "cells": [
  {
   "cell_type": "code",
   "execution_count": 1,
   "metadata": {},
   "outputs": [],
   "source": [
    "import os\n",
    "import torch\n",
    "import torchvision\n",
    "import torchvision.transforms as transform"
   ]
  },
  {
   "cell_type": "code",
   "execution_count": 3,
   "metadata": {},
   "outputs": [
    {
     "data": {
      "text/plain": [
       "['ADONIS',\n",
       " 'AFRICAN GIANT SWALLOWTAIL',\n",
       " 'AMERICAN SNOOT',\n",
       " 'AN 88',\n",
       " 'APPOLLO',\n",
       " 'ARCIGERA FLOWER MOTH',\n",
       " 'ATALA',\n",
       " 'ATLAS MOTH',\n",
       " 'BANDED ORANGE HELICONIAN',\n",
       " 'BANDED PEACOCK',\n",
       " 'BANDED TIGER MOTH',\n",
       " 'BECKERS WHITE',\n",
       " 'BIRD CHERRY ERMINE MOTH',\n",
       " 'BLACK HAIRSTREAK',\n",
       " 'BLUE MORPHO',\n",
       " 'BLUE SPOTTED CROW',\n",
       " 'BROOKES BIRDWING',\n",
       " 'BROWN ARGUS',\n",
       " 'BROWN SIPROETA',\n",
       " 'CABBAGE WHITE',\n",
       " 'CAIRNS BIRDWING',\n",
       " 'CHALK HILL BLUE',\n",
       " 'CHECQUERED SKIPPER',\n",
       " 'CHESTNUT',\n",
       " 'CINNABAR MOTH',\n",
       " 'CLEARWING MOTH',\n",
       " 'CLEOPATRA',\n",
       " 'CLODIUS PARNASSIAN',\n",
       " 'CLOUDED SULPHUR',\n",
       " 'COMET MOTH',\n",
       " 'COMMON BANDED AWL',\n",
       " 'COMMON WOOD-NYMPH',\n",
       " 'COPPER TAIL',\n",
       " 'CRECENT',\n",
       " 'CRIMSON PATCH',\n",
       " 'DANAID EGGFLY',\n",
       " 'EASTERN COMA',\n",
       " 'EASTERN DAPPLE WHITE',\n",
       " 'EASTERN PINE ELFIN',\n",
       " 'ELBOWED PIERROT',\n",
       " 'EMPEROR GUM MOTH',\n",
       " 'GARDEN TIGER MOTH',\n",
       " 'GIANT LEOPARD MOTH',\n",
       " 'GLITTERING SAPPHIRE',\n",
       " 'GOLD BANDED',\n",
       " 'GREAT EGGFLY',\n",
       " 'GREAT JAY',\n",
       " 'GREEN CELLED CATTLEHEART',\n",
       " 'GREEN HAIRSTREAK',\n",
       " 'GREY HAIRSTREAK',\n",
       " 'HERCULES MOTH',\n",
       " 'HUMMING BIRD HAWK MOTH',\n",
       " 'INDRA SWALLOW',\n",
       " 'IO MOTH',\n",
       " 'Iphiclus sister',\n",
       " 'JULIA',\n",
       " 'LARGE MARBLE',\n",
       " 'LUNA MOTH',\n",
       " 'MADAGASCAN SUNSET MOTH',\n",
       " 'MALACHITE',\n",
       " 'MANGROVE SKIPPER',\n",
       " 'MESTRA',\n",
       " 'METALMARK',\n",
       " 'MILBERTS TORTOISESHELL',\n",
       " 'MONARCH',\n",
       " 'MOURNING CLOAK',\n",
       " 'OLEANDER HAWK MOTH',\n",
       " 'ORANGE OAKLEAF',\n",
       " 'ORANGE TIP',\n",
       " 'ORCHARD SWALLOW',\n",
       " 'PAINTED LADY',\n",
       " 'PAPER KITE',\n",
       " 'PEACOCK',\n",
       " 'PINE WHITE',\n",
       " 'PIPEVINE SWALLOW',\n",
       " 'POLYPHEMUS MOTH',\n",
       " 'POPINJAY',\n",
       " 'PURPLE HAIRSTREAK',\n",
       " 'PURPLISH COPPER',\n",
       " 'QUESTION MARK',\n",
       " 'RED ADMIRAL',\n",
       " 'RED CRACKER',\n",
       " 'RED POSTMAN',\n",
       " 'RED SPOTTED PURPLE',\n",
       " 'ROSY MAPLE MOTH',\n",
       " 'SCARCE SWALLOW',\n",
       " 'SILVER SPOT SKIPPER',\n",
       " 'SIXSPOT BURNET MOTH',\n",
       " 'SLEEPY ORANGE',\n",
       " 'SOOTYWING',\n",
       " 'SOUTHERN DOGFACE',\n",
       " 'STRAITED QUEEN',\n",
       " 'TROPICAL LEAFWING',\n",
       " 'TWO BARRED FLASHER',\n",
       " 'ULYSES',\n",
       " 'VICEROY',\n",
       " 'WHITE LINED SPHINX MOTH',\n",
       " 'WOOD SATYR',\n",
       " 'YELLOW SWALLOW TAIL',\n",
       " 'ZEBRA LONG WING']"
      ]
     },
     "execution_count": 3,
     "metadata": {},
     "output_type": "execute_result"
    }
   ],
   "source": [
    "os.listdir('D://Datasets//BUTTERFLIES//train')"
   ]
  },
  {
   "cell_type": "code",
   "execution_count": 5,
   "metadata": {},
   "outputs": [],
   "source": [
    "train_path = \"D://Datasets//BUTTERFLIES//train\"\n",
    "\n",
    "train_transform = transform.Compose([\n",
    "    transform.Resize((224, 224)),\n",
    "    transform.ToTensor(),\n",
    "])\n",
    "\n",
    "train_dataset = torchvision.datasets.ImageFolder(root = train_path, transform= train_transform)\n",
    "\n",
    "train_loader = torch.utils.data.DataLoader(train_dataset, batch_size= 32, shuffle = False)\n"
   ]
  },
  {
   "cell_type": "code",
   "execution_count": 12,
   "metadata": {},
   "outputs": [],
   "source": [
    "\n",
    "def get_mean_and_std(loader):\n",
    "    mean = 0.\n",
    "    std = 0.\n",
    "    total_images_count = 0\n",
    "    for images, _ in loader:\n",
    "        image_count_in_a_batch = images.size(0)\n",
    "        images = images.view(image_count_in_a_batch, images.size(1), -1)\n",
    "        mean += images.mean(2).sum(0)\n",
    "        std += images.std(2).sum(0)\n",
    "        total_images_count += image_count_in_a_batch\n",
    "\n",
    "    mean/=total_images_count\n",
    "    std/=total_images_count\n",
    "    return mean, std"
   ]
  },
  {
   "cell_type": "code",
   "execution_count": 13,
   "metadata": {},
   "outputs": [
    {
     "data": {
      "text/plain": [
       "(tensor([0.4840, 0.4672, 0.3431]), tensor([0.2335, 0.2275, 0.2218]))"
      ]
     },
     "execution_count": 13,
     "metadata": {},
     "output_type": "execute_result"
    }
   ],
   "source": [
    "get_mean_and_std(train_loader)"
   ]
  }
 ],
 "metadata": {
  "kernelspec": {
   "display_name": "Python 3.10.4 64-bit",
   "language": "python",
   "name": "python3"
  },
  "language_info": {
   "codemirror_mode": {
    "name": "ipython",
    "version": 3
   },
   "file_extension": ".py",
   "mimetype": "text/x-python",
   "name": "python",
   "nbconvert_exporter": "python",
   "pygments_lexer": "ipython3",
   "version": "3.10.4"
  },
  "orig_nbformat": 4,
  "vscode": {
   "interpreter": {
    "hash": "107d7b120a5b68773a87d4067e673630b35702e55ebab3138143d08b1c4d7cbc"
   }
  }
 },
 "nbformat": 4,
 "nbformat_minor": 2
}
