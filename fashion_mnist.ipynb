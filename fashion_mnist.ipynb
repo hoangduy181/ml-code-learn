{
  "nbformat": 4,
  "nbformat_minor": 0,
  "metadata": {
    "colab": {
      "name": "fashion_mnist.ipynb",
      "provenance": [],
      "collapsed_sections": []
    },
    "kernelspec": {
      "name": "python3",
      "display_name": "Python 3"
    },
    "language_info": {
      "name": "python"
    }
  },
  "cells": [
    {
      "cell_type": "code",
      "execution_count": null,
      "metadata": {
        "colab": {
          "base_uri": "https://localhost:8080/"
        },
        "id": "V4fBd3SWAIg5",
        "outputId": "c7a1f8a3-d3a1-411f-da2d-dfce92aae670"
      },
      "outputs": [
        {
          "output_type": "stream",
          "name": "stdout",
          "text": [
            "2.8.0\n"
          ]
        }
      ],
      "source": [
        "import tensorflow as tf\n",
        "import numpy as np\n",
        "import matplotlib.pyplot as plt\n",
        "\n",
        "print(tf.__version__)"
      ]
    },
    {
      "cell_type": "code",
      "source": [
        "fashion_mnist = tf.keras.datasets.fashion_mnist\n",
        "\n",
        "(train_imgs, train_labels) , (test_imgs, test_labels) = fashion_mnist.load_data()"
      ],
      "metadata": {
        "id": "KM2b-nveQiXv"
      },
      "execution_count": null,
      "outputs": []
    },
    {
      "cell_type": "code",
      "source": [
        "class_names = ['T-shirt/top', 'Trouser', 'Pullover', 'Dress', 'Coat',\n",
        "               'Sandal', 'Shirt', 'Sneaker', 'Bag', 'Ankle boot']"
      ],
      "metadata": {
        "id": "s56PcJ1nD0aN"
      },
      "execution_count": null,
      "outputs": []
    },
    {
      "cell_type": "code",
      "source": [
        "train_imgs.shape"
      ],
      "metadata": {
        "colab": {
          "base_uri": "https://localhost:8080/"
        },
        "id": "L8XJZ9q2D87Y",
        "outputId": "96b4bdbd-d561-457c-8f69-fc180e303641"
      },
      "execution_count": null,
      "outputs": [
        {
          "output_type": "execute_result",
          "data": {
            "text/plain": [
              "(60000, 28, 28)"
            ]
          },
          "metadata": {},
          "execution_count": 30
        }
      ]
    },
    {
      "cell_type": "code",
      "source": [
        "train_labels"
      ],
      "metadata": {
        "colab": {
          "base_uri": "https://localhost:8080/"
        },
        "id": "PEbAs1xGEJoi",
        "outputId": "6a86de5a-796e-4b34-9cf5-3ae1babda14c"
      },
      "execution_count": null,
      "outputs": [
        {
          "output_type": "execute_result",
          "data": {
            "text/plain": [
              "array([9, 0, 0, ..., 3, 0, 5], dtype=uint8)"
            ]
          },
          "metadata": {},
          "execution_count": 31
        }
      ]
    },
    {
      "cell_type": "code",
      "source": [
        "plt.figure()\n",
        "plt.imshow(train_imgs[0])\n",
        "plt.colorbar()\n",
        "plt.grid(False)\n",
        "plt.show()"
      ],
      "metadata": {
        "colab": {
          "base_uri": "https://localhost:8080/",
          "height": 265
        },
        "id": "zlWY74f3IGI3",
        "outputId": "467150f0-601a-4a4a-a6e2-ff9cb9278bf6"
      },
      "execution_count": null,
      "outputs": [
        {
          "output_type": "display_data",
          "data": {
            "text/plain": [
              "<Figure size 432x288 with 2 Axes>"
            ],
            "image/png": "[encoded data removed]"
          },
          "metadata": {
            "needs_background": "light"
          }
        }
      ]
    },
    {
      "cell_type": "code",
      "source": [
        "train_imgs = train_imgs / 255.0\n",
        "\n",
        "test_imgs = test_imgs / 255.0"
      ],
      "metadata": {
        "id": "Y_rNPa6KII1l"
      },
      "execution_count": null,
      "outputs": []
    },
    {
      "cell_type": "code",
      "source": [
        "plt.figure(figsize=(10,10))\n",
        "for i in range(25):\n",
        "    plt.subplot(5,5,i+1)\n",
        "    plt.xticks([])\n",
        "    plt.yticks([])\n",
        "    plt.grid(False)\n",
        "    plt.imshow(train_imgs[i], cmap=plt.cm.binary)\n",
        "    plt.xlabel(class_names[train_labels[i]])\n",
        "plt.show()"
      ],
      "metadata": {
        "colab": {
          "base_uri": "https://localhost:8080/",
          "height": 589
        },
        "id": "zc8GoD0YIbnh",
        "outputId": "926e1931-da4a-499f-8bb3-a597a7ddfde8"
      },
      "execution_count": null,
      "outputs": [
        {
          "output_type": "display_data",
          "data": {
            "text/plain": [
              "<Figure size 720x720 with 25 Axes>"
            ],
            "image/png": "[encoded data removed]"
          },
          "metadata": {}
        }
      ]
    },
    {
      "cell_type": "markdown",
      "source": [
        "Set up the layers"
      ],
      "metadata": {
        "id": "1WEVV7eCI6HV"
      }
    },
    {
      "cell_type": "code",
      "source": [
        "model = tf.keras.Sequential([\n",
        "    tf.keras.layers.Flatten(input_shape=(28, 28)),\n",
        "    tf.keras.layers.Dense(128, activation='relu'),\n",
        "    tf.keras.layers.Dense(10)\n",
        "])"
      ],
      "metadata": {
        "id": "I8Z8tlaAI5Eg"
      },
      "execution_count": null,
      "outputs": []
    },
    {
      "cell_type": "code",
      "source": [
        "model.summary()"
      ],
      "metadata": {
        "id": "Vnh5J_I_1S2e",
        "outputId": "d076c1e4-cb75-4763-fe9c-b9b10df7eaa6",
        "colab": {
          "base_uri": "https://localhost:8080/"
        }
      },
      "execution_count": null,
      "outputs": [
        {
          "output_type": "stream",
          "name": "stdout",
          "text": [
            "Model: \"sequential_2\"\n",
            "_________________________________________________________________\n",
            " Layer (type)                Output Shape              Param #   \n",
            "=================================================================\n",
            " flatten_1 (Flatten)         (None, 784)               0         \n",
            "                                                                 \n",
            " dense_2 (Dense)             (None, 128)               100480    \n",
            "                                                                 \n",
            " dense_3 (Dense)             (None, 10)                1290      \n",
            "                                                                 \n",
            "=================================================================\n",
            "Total params: 101,770\n",
            "Trainable params: 101,770\n",
            "Non-trainable params: 0\n",
            "_________________________________________________________________\n"
          ]
        }
      ]
    },
    {
      "cell_type": "markdown",
      "source": [
        "Compile the model"
      ],
      "metadata": {
        "id": "3gaVtkxQK7R9"
      }
    },
    {
      "cell_type": "code",
      "source": [
        "model.compile(optimizer='adam', loss = tf.keras.losses.SparseCategoricalCrossentropy(from_logits=True), metrics = ['accuracy'])"
      ],
      "metadata": {
        "id": "mz-9P8fDK3yI"
      },
      "execution_count": null,
      "outputs": []
    },
    {
      "cell_type": "markdown",
      "source": [
        "Train the model"
      ],
      "metadata": {
        "id": "qQlW8CDibKXZ"
      }
    },
    {
      "cell_type": "code",
      "source": [
        "print(train_labels)"
      ],
      "metadata": {
        "colab": {
          "base_uri": "https://localhost:8080/"
        },
        "id": "eFOT7ML10Zt9",
        "outputId": "edcd0936-0647-46ca-e93a-a9d38cbc72f1"
      },
      "execution_count": null,
      "outputs": [
        {
          "output_type": "stream",
          "name": "stdout",
          "text": [
            "[9 0 0 ... 3 0 5]\n"
          ]
        }
      ]
    },
    {
      "cell_type": "code",
      "source": [
        "model.fit(train_imgs, train_labels, epochs=10)"
      ],
      "metadata": {
        "colab": {
          "base_uri": "https://localhost:8080/"
        },
        "id": "lH4WL2pBbJTA",
        "outputId": "b5ecda9c-4374-4ffa-c055-9d9b75260c0c"
      },
      "execution_count": null,
      "outputs": [
        {
          "output_type": "stream",
          "name": "stdout",
          "text": [
            "Epoch 1/10\n",
            "1875/1875 [==============================] - 5s 2ms/step - loss: 0.5017 - accuracy: 0.8232\n",
            "Epoch 2/10\n",
            "1875/1875 [==============================] - 4s 2ms/step - loss: 0.3751 - accuracy: 0.8645\n",
            "Epoch 3/10\n",
            "1875/1875 [==============================] - 5s 2ms/step - loss: 0.3377 - accuracy: 0.8788\n",
            "Epoch 4/10\n",
            "1875/1875 [==============================] - 4s 2ms/step - loss: 0.3135 - accuracy: 0.8849\n",
            "Epoch 5/10\n",
            "1875/1875 [==============================] - 4s 2ms/step - loss: 0.2949 - accuracy: 0.8926\n",
            "Epoch 6/10\n",
            "1875/1875 [==============================] - 4s 2ms/step - loss: 0.2823 - accuracy: 0.8956\n",
            "Epoch 7/10\n",
            "1875/1875 [==============================] - 4s 2ms/step - loss: 0.2694 - accuracy: 0.8993\n",
            "Epoch 8/10\n",
            "1875/1875 [==============================] - 4s 2ms/step - loss: 0.2588 - accuracy: 0.9048\n",
            "Epoch 9/10\n",
            "1875/1875 [==============================] - 4s 2ms/step - loss: 0.2497 - accuracy: 0.9076\n",
            "Epoch 10/10\n",
            "1875/1875 [==============================] - 5s 2ms/step - loss: 0.2392 - accuracy: 0.9122\n"
          ]
        },
        {
          "output_type": "execute_result",
          "data": {
            "text/plain": [
              "<keras.callbacks.History at 0x7f9b5fc63b90>"
            ]
          },
          "metadata": {},
          "execution_count": 37
        }
      ]
    },
    {
      "cell_type": "markdown",
      "source": [
        "Evaluate accuracy"
      ],
      "metadata": {
        "id": "rHhf4kBkg1Av"
      }
    },
    {
      "cell_type": "code",
      "source": [
        "test_loss, test_acc = model.evaluate(test_imgs, test_labels, verbose= 2)\n",
        "\n",
        "print('\\n===========\\nTest Accuracy:', test_acc)"
      ],
      "metadata": {
        "colab": {
          "base_uri": "https://localhost:8080/"
        },
        "id": "rhPPOdZ3g4yO",
        "outputId": "d3406a29-baa6-4298-d729-9dad1e5538a1"
      },
      "execution_count": null,
      "outputs": [
        {
          "output_type": "stream",
          "name": "stdout",
          "text": [
            "313/313 - 1s - loss: 0.3308 - accuracy: 0.8854 - 528ms/epoch - 2ms/step\n",
            "\n",
            "===========\n",
            "Test Accuracy: 0.8853999972343445\n"
          ]
        }
      ]
    },
    {
      "cell_type": "markdown",
      "source": [
        "Make predictions\n"
      ],
      "metadata": {
        "id": "ZXXLC61RjuhW"
      }
    },
    {
      "cell_type": "code",
      "source": [
        "probability_model = tf.keras.Sequential([model, tf.keras.layers.Softmax()])"
      ],
      "metadata": {
        "id": "tInVf-6Mjx6w"
      },
      "execution_count": null,
      "outputs": []
    },
    {
      "cell_type": "code",
      "source": [
        "predictions = probability_model.predict(test_imgs)"
      ],
      "metadata": {
        "id": "oWEWwMYHkAH5"
      },
      "execution_count": null,
      "outputs": []
    },
    {
      "cell_type": "code",
      "source": [
        "predictions[0]"
      ],
      "metadata": {
        "colab": {
          "base_uri": "https://localhost:8080/"
        },
        "id": "rCqZkRwqkM0B",
        "outputId": "e66f33c8-fba6-4354-f049-fb0bb909ad70"
      },
      "execution_count": null,
      "outputs": [
        {
          "output_type": "execute_result",
          "data": {
            "text/plain": [
              "array([1.9933982e-07, 5.2082068e-09, 1.9233867e-07, 1.1094270e-08,\n",
              "       5.0928656e-07, 1.2734988e-03, 2.1135676e-07, 1.9449906e-02,\n",
              "       1.0067754e-07, 9.7927535e-01], dtype=float32)"
            ]
          },
          "metadata": {},
          "execution_count": 41
        }
      ]
    },
    {
      "cell_type": "code",
      "source": [
        "np.argmax(predictions[0])"
      ],
      "metadata": {
        "colab": {
          "base_uri": "https://localhost:8080/"
        },
        "id": "r4tWVJu7kfTk",
        "outputId": "7ad80683-164a-4346-b5c3-0dc7b9c16182"
      },
      "execution_count": null,
      "outputs": [
        {
          "output_type": "execute_result",
          "data": {
            "text/plain": [
              "9"
            ]
          },
          "metadata": {},
          "execution_count": 42
        }
      ]
    },
    {
      "cell_type": "code",
      "source": [
        "test_labels[0]"
      ],
      "metadata": {
        "colab": {
          "base_uri": "https://localhost:8080/"
        },
        "id": "LfmylApzkvMj",
        "outputId": "43e5683a-e6a3-4a28-ef10-121ec85b2799"
      },
      "execution_count": null,
      "outputs": [
        {
          "output_type": "execute_result",
          "data": {
            "text/plain": [
              "9"
            ]
          },
          "metadata": {},
          "execution_count": 43
        }
      ]
    },
    {
      "cell_type": "code",
      "source": [
        "def plot_image(i, predictions_array, true_label, img):\n",
        "  true_label, img = true_label[i], img[i]\n",
        "  plt.grid(False)\n",
        "  plt.xticks([])\n",
        "  plt.yticks([])\n",
        "\n",
        "  plt.imshow(img, cmap=plt.cm.binary)\n",
        "\n",
        "  predicted_label = np.argmax(predictions_array)\n",
        "  if predicted_label == true_label:\n",
        "    color = 'blue'\n",
        "  else:\n",
        "    color = 'red'\n",
        "\n",
        "  plt.xlabel(\"{} {:2.0f}% ({})\".format(class_names[predicted_label],\n",
        "                                100*np.max(predictions_array),\n",
        "                                class_names[true_label]),\n",
        "                                color=color)\n",
        "\n",
        "def plot_value_array(i, predictions_array, true_label):\n",
        "  true_label = true_label[i]\n",
        "  plt.grid(False)\n",
        "  plt.xticks(range(10))\n",
        "  plt.yticks([])\n",
        "  thisplot = plt.bar(range(10), predictions_array, color=\"#777777\")\n",
        "  plt.ylim([0, 1])\n",
        "  predicted_label = np.argmax(predictions_array)\n",
        "\n",
        "  thisplot[predicted_label].set_color('red')\n",
        "  thisplot[true_label].set_color('blue')"
      ],
      "metadata": {
        "id": "1jsnNQbHlXd0"
      },
      "execution_count": null,
      "outputs": []
    },
    {
      "cell_type": "markdown",
      "source": [
        "Verify predictions"
      ],
      "metadata": {
        "id": "M_JRGhhxlfrW"
      }
    },
    {
      "cell_type": "code",
      "source": [
        "i = 625\n",
        "plt.figure(figsize=(6,3))\n",
        "plt.subplot(1,2,1)\n",
        "plot_image(i, predictions[i], test_labels, test_imgs)\n",
        "plt.subplot(1,2,2)\n",
        "plot_value_array(i, predictions[i],  test_labels)\n",
        "plt.show()"
      ],
      "metadata": {
        "colab": {
          "base_uri": "https://localhost:8080/",
          "height": 211
        },
        "id": "yvWQPgh8lfOz",
        "outputId": "cc45da10-63f3-4dbd-ea2f-12eb964e175d"
      },
      "execution_count": null,
      "outputs": [
        {
          "output_type": "display_data",
          "data": {
            "text/plain": [
              "<Figure size 432x216 with 2 Axes>"
            ],
            "image/png": "[encoded data removed]"
          },
          "metadata": {
            "needs_background": "light"
          }
        }
      ]
    },
    {
      "cell_type": "code",
      "source": [
        "num_rows = 5\n",
        "num_cols = 3\n",
        "num_images = num_rows*num_cols\n",
        "plt.figure(figsize=(2*2*num_cols, 2*num_rows))\n",
        "for i in range(num_images):\n",
        "  plt.subplot(num_rows, 2*num_cols, 2*i+1)\n",
        "  plot_image(i, predictions[i], test_labels, test_imgs)\n",
        "  plt.subplot(num_rows, 2*num_cols, 2*i+2)\n",
        "  plot_value_array(i, predictions[i], test_labels)\n",
        "plt.tight_layout()\n",
        "plt.show()"
      ],
      "metadata": {
        "colab": {
          "base_uri": "https://localhost:8080/",
          "height": 556
        },
        "id": "AhKoa7L2l8Xb",
        "outputId": "3ecd1f79-df8f-4124-dc85-21baf4588ba0"
      },
      "execution_count": null,
      "outputs": [
        {
          "output_type": "display_data",
          "data": {
            "text/plain": [
              "<Figure size 864x720 with 30 Axes>"
            ],
            "image/png": "[encoded data removed]"
          },
          "metadata": {
            "needs_background": "light"
          }
        }
      ]
    },
    {
      "cell_type": "code",
      "source": [
        "img = test_imgs[1]\n",
        "\n",
        "plt.imshow(img, cmap=plt.cm.binary)\n",
        "print(img.shape)"
      ],
      "metadata": {
        "colab": {
          "base_uri": "https://localhost:8080/",
          "height": 282
        },
        "id": "nduAEpGnuM7L",
        "outputId": "343dd160-2fc9-41b8-c445-7399d003acc8"
      },
      "execution_count": null,
      "outputs": [
        {
          "output_type": "stream",
          "name": "stdout",
          "text": [
            "(28, 28)\n"
          ]
        },
        {
          "output_type": "display_data",
          "data": {
            "text/plain": [
              "<Figure size 432x288 with 1 Axes>"
            ],
            "image/png": "[encoded data removed]"
          },
          "metadata": {
            "needs_background": "light"
          }
        }
      ]
    },
    {
      "cell_type": "code",
      "source": [
        "img = (np.expand_dims(img, 0))\n",
        "\n",
        "print(img)\n",
        "\n",
        "print(img.shape)"
      ],
      "metadata": {
        "colab": {
          "base_uri": "https://localhost:8080/"
        },
        "id": "A-g9VJkmufDv",
        "outputId": "a295ea6a-c854-482e-fd0e-d1520d6929c7"
      },
      "execution_count": null,
      "outputs": [
        {
          "output_type": "stream",
          "name": "stdout",
          "text": [
            "[[[0.         0.         0.         0.         0.         0.\n",
            "   0.         0.         0.         0.         0.05098039 0.2627451\n",
            "   0.         0.         0.         0.         0.19607843 0.14901961\n",
            "   0.         0.         0.         0.         0.         0.\n",
            "   0.         0.         0.         0.        ]\n",
            "  [0.         0.         0.         0.         0.         0.\n",
            "   0.         0.03137255 0.47058824 0.81960784 0.88627451 0.96862745\n",
            "   0.92941176 1.         1.         1.         0.96862745 0.93333333\n",
            "   0.92156863 0.6745098  0.28235294 0.         0.         0.\n",
            "   0.         0.         0.         0.        ]\n",
            "  [0.         0.         0.         0.         0.         0.\n",
            "   0.5372549  0.9372549  0.98823529 0.95294118 0.91764706 0.89803922\n",
            "   0.93333333 0.95686275 0.96470588 0.94117647 0.90196078 0.90980392\n",
            "   0.9372549  0.97254902 0.98431373 0.76078431 0.         0.\n",
            "   0.         0.         0.         0.        ]\n",
            "  [0.         0.         0.         0.         0.         0.4\n",
            "   1.         0.90588235 0.89411765 0.89019608 0.89411765 0.91372549\n",
            "   0.90196078 0.90196078 0.89803922 0.89411765 0.90980392 0.90980392\n",
            "   0.90588235 0.89019608 0.87843137 0.98823529 0.70196078 0.\n",
            "   0.         0.         0.         0.        ]\n",
            "  [0.         0.         0.         0.         0.         0.91372549\n",
            "   0.94509804 0.89803922 0.90588235 1.         1.         0.93333333\n",
            "   0.90588235 0.89019608 0.93333333 0.96470588 0.89411765 0.90196078\n",
            "   0.89019608 0.91764706 0.92156863 0.89803922 0.94509804 0.07843137\n",
            "   0.         0.         0.         0.        ]\n",
            "  [0.         0.         0.         0.         0.         0.97254902\n",
            "   0.94509804 0.90588235 1.         0.58431373 0.18431373 0.98823529\n",
            "   0.89411765 1.         0.94901961 0.84705882 0.93333333 0.90980392\n",
            "   1.         0.89411765 0.8627451  0.91764706 0.98039216 0.21176471\n",
            "   0.         0.         0.         0.        ]\n",
            "  [0.         0.         0.         0.         0.         1.\n",
            "   0.94117647 0.90980392 1.         0.05882353 0.         1.\n",
            "   0.92941176 0.74901961 0.         0.         0.83921569 1.\n",
            "   0.05098039 0.48235294 1.         0.91764706 0.98823529 0.44705882\n",
            "   0.         0.         0.         0.        ]\n",
            "  [0.         0.         0.         0.         0.02352941 1.\n",
            "   0.93333333 0.9372549  1.         0.69411765 0.         1.\n",
            "   1.         0.         0.50980392 0.45490196 0.18431373 0.25490196\n",
            "   0.16862745 0.14509804 1.         0.9254902  0.97647059 0.63529412\n",
            "   0.         0.         0.         0.        ]\n",
            "  [0.         0.         0.         0.         0.1254902  1.\n",
            "   0.9254902  0.96078431 1.         0.8        0.         1.\n",
            "   0.32941176 0.         0.14509804 0.10980392 0.12156863 0.\n",
            "   0.09803922 0.05098039 1.         0.9254902  0.97647059 0.78039216\n",
            "   0.         0.         0.         0.        ]\n",
            "  [0.         0.         0.         0.         0.20784314 1.\n",
            "   0.9254902  0.98039216 0.98039216 0.90588235 0.00784314 1.\n",
            "   0.08235294 0.         0.86666667 1.         0.9254902  0.21176471\n",
            "   0.96078431 0.77647059 0.95294118 0.93333333 0.96078431 0.8745098\n",
            "   0.         0.         0.         0.        ]\n",
            "  [0.         0.         0.         0.         0.31372549 1.\n",
            "   0.92941176 0.98039216 0.94117647 1.         0.         0.\n",
            "   0.15294118 0.61568627 0.         0.         0.84313725 0.36862745\n",
            "   0.07843137 0.49411765 1.         0.92941176 0.9372549  0.98039216\n",
            "   0.         0.         0.         0.        ]\n",
            "  [0.         0.         0.         0.         0.39607843 1.\n",
            "   0.92156863 0.99215686 0.95686275 0.95294118 0.52156863 0.54117647\n",
            "   0.81568627 1.         0.78823529 0.83921569 1.         0.90196078\n",
            "   0.02745098 0.68235294 1.         0.94117647 0.93333333 1.\n",
            "   0.         0.         0.         0.        ]\n",
            "  [0.         0.         0.         0.         0.49411765 1.\n",
            "   0.91372549 1.         0.97254902 0.91372549 1.         1.\n",
            "   0.94117647 0.90980392 0.95294118 0.95294118 0.90588235 0.98431373\n",
            "   1.         1.         0.99607843 0.95294118 0.93333333 1.\n",
            "   0.01176471 0.         0.         0.        ]\n",
            "  [0.         0.         0.         0.         0.57647059 1.\n",
            "   0.91372549 0.97647059 0.70980392 0.95294118 0.89019608 0.87843137\n",
            "   0.90196078 0.91764706 0.90196078 0.90196078 0.92156863 0.89411765\n",
            "   0.92156863 0.87058824 0.81176471 1.         0.9254902  1.\n",
            "   0.1372549  0.         0.         0.        ]\n",
            "  [0.         0.         0.         0.         0.63921569 1.\n",
            "   0.96078431 0.86666667 0.3372549  1.         0.91372549 0.91372549\n",
            "   0.92156863 0.9254902  0.91764706 0.91764706 0.91764706 0.90980392\n",
            "   0.94901961 0.90588235 0.49019608 1.         0.9254902  1.\n",
            "   0.21568627 0.         0.         0.        ]\n",
            "  [0.         0.         0.         0.         0.70980392 0.99607843\n",
            "   1.         0.78431373 0.27058824 1.         0.89411765 0.90980392\n",
            "   0.91764706 0.92156863 0.91764706 0.91764706 0.91372549 0.92156863\n",
            "   0.94509804 0.92941176 0.2745098  1.         0.92156863 0.96470588\n",
            "   0.22352941 0.         0.         0.        ]\n",
            "  [0.         0.         0.         0.         0.77254902 0.96862745\n",
            "   1.         0.7372549  0.43137255 1.         0.87843137 0.91372549\n",
            "   0.91764706 0.91764706 0.91764706 0.91764706 0.91764706 0.91764706\n",
            "   0.94117647 0.99215686 0.27058824 1.         0.9254902  0.97254902\n",
            "   0.30196078 0.         0.         0.        ]\n",
            "  [0.         0.         0.         0.         0.78431373 0.96470588\n",
            "   1.         0.58431373 0.56862745 1.         0.8745098  0.92156863\n",
            "   0.91764706 0.92156863 0.92156863 0.92156863 0.91764706 0.92941176\n",
            "   0.91372549 1.         0.18431373 1.         0.9372549  0.97647059\n",
            "   0.38431373 0.         0.         0.        ]\n",
            "  [0.         0.         0.         0.         0.8        0.95294118\n",
            "   1.         0.43529412 0.67843137 1.         0.89019608 0.92156863\n",
            "   0.92156863 0.9254902  0.92156863 0.92156863 0.92156863 0.9372549\n",
            "   0.89803922 1.         0.0745098  0.89019608 0.96470588 0.97647059\n",
            "   0.43137255 0.         0.         0.        ]\n",
            "  [0.         0.         0.         0.         0.76862745 0.94117647\n",
            "   1.         0.42745098 0.83529412 0.98039216 0.89803922 0.92156863\n",
            "   0.92156863 0.9254902  0.92156863 0.92941176 0.9254902  0.92941176\n",
            "   0.88627451 1.         0.21568627 0.79607843 0.98431373 0.96078431\n",
            "   0.47058824 0.         0.         0.        ]\n",
            "  [0.         0.         0.         0.         0.75294118 0.95294118\n",
            "   1.         0.44705882 0.90980392 0.94117647 0.90980392 0.92156863\n",
            "   0.92156863 0.9254902  0.91764706 0.92941176 0.9254902  0.92156863\n",
            "   0.89803922 1.         0.5254902  0.67058824 0.98823529 0.95686275\n",
            "   0.5372549  0.         0.         0.        ]\n",
            "  [0.         0.         0.         0.         0.74117647 0.98431373\n",
            "   1.         0.60392157 0.93333333 0.91372549 0.9254902  0.91764706\n",
            "   0.92156863 0.9254902  0.92156863 0.93333333 0.9254902  0.92156863\n",
            "   0.90980392 1.         0.65098039 0.49019608 1.         0.95294118\n",
            "   0.55686275 0.         0.         0.        ]\n",
            "  [0.         0.         0.         0.         0.71764706 0.98823529\n",
            "   1.         0.67058824 0.96862745 0.90980392 0.91764706 0.91764706\n",
            "   0.91372549 0.91372549 0.90980392 0.91764706 0.91372549 0.91764706\n",
            "   0.91372549 0.94117647 0.8745098  0.50196078 1.         0.94901961\n",
            "   0.59215686 0.         0.         0.        ]\n",
            "  [0.         0.         0.         0.         0.69803922 0.95294118\n",
            "   1.         0.22352941 0.93333333 0.94509804 0.93333333 0.93333333\n",
            "   0.93333333 0.92941176 0.9254902  0.92941176 0.92941176 0.94117647\n",
            "   0.92941176 0.99607843 0.69019608 0.20392157 1.         0.9372549\n",
            "   0.61568627 0.         0.         0.        ]\n",
            "  [0.         0.         0.         0.         0.7372549  0.94117647\n",
            "   0.98039216 0.24313725 0.85490196 1.         0.8627451  0.87058824\n",
            "   0.87058824 0.87058824 0.8745098  0.8745098  0.87843137 0.87058824\n",
            "   0.85490196 1.         0.60392157 0.1254902  1.         0.9254902\n",
            "   0.7372549  0.         0.         0.        ]\n",
            "  [0.         0.         0.         0.         0.50980392 0.96078431\n",
            "   0.94901961 0.09411765 0.         0.         0.         0.\n",
            "   0.         0.         0.         0.         0.         0.\n",
            "   0.         0.         0.         0.13333333 0.94901961 0.95686275\n",
            "   0.52941176 0.         0.         0.        ]\n",
            "  [0.         0.         0.         0.         0.29803922 1.\n",
            "   0.97647059 0.08627451 0.         0.         0.         0.\n",
            "   0.         0.         0.         0.         0.         0.\n",
            "   0.         0.         0.         0.15294118 0.97647059 1.\n",
            "   0.48235294 0.         0.         0.        ]\n",
            "  [0.         0.         0.         0.         0.19215686 0.80392157\n",
            "   0.77254902 0.04313725 0.         0.01568627 0.00392157 0.00784314\n",
            "   0.00784314 0.00784314 0.00784314 0.00784314 0.00784314 0.00784314\n",
            "   0.00784314 0.01176471 0.         0.01176471 0.68235294 0.74117647\n",
            "   0.2627451  0.         0.         0.        ]]]\n",
            "(1, 28, 28)\n"
          ]
        }
      ]
    },
    {
      "cell_type": "code",
      "source": [
        "predictions_single = probability_model.predict(img)\n",
        "\n",
        "print(predictions_single)"
      ],
      "metadata": {
        "colab": {
          "base_uri": "https://localhost:8080/"
        },
        "id": "qdNth2e90nYL",
        "outputId": "3d8a0c52-b2da-47c3-c184-5002985da468"
      },
      "execution_count": null,
      "outputs": [
        {
          "output_type": "stream",
          "name": "stdout",
          "text": [
            "[[9.1375086e-06 2.6327500e-13 9.9770892e-01 3.7143508e-10 9.3147537e-04\n",
            "  4.0818851e-13 1.3504253e-03 2.5337820e-15 2.4177244e-11 2.2125537e-13]]\n"
          ]
        }
      ]
    },
    {
      "cell_type": "code",
      "source": [
        "plot_value_array(1, predictions_single[0], test_labels)\n",
        "_ = plt.xticks(range(10), class_names, rotation=45)\n",
        "plt.show()"
      ],
      "metadata": {
        "colab": {
          "base_uri": "https://localhost:8080/",
          "height": 300
        },
        "id": "LU3f9Tka0_5f",
        "outputId": "96501464-f04a-4403-c376-427afcaaddc2"
      },
      "execution_count": null,
      "outputs": [
        {
          "output_type": "display_data",
          "data": {
            "text/plain": [
              "<Figure size 432x288 with 1 Axes>"
            ],
            "image/png": "[encoded data removed]"
          },
          "metadata": {
            "needs_background": "light"
          }
        }
      ]
    },
    {
      "cell_type": "code",
      "source": [
        "batch = np.array([test_imgs[1], test_imgs[2]])\n",
        "\n",
        "batch = np.append(batch, np.array([test_imgs[3]]), 0)\n",
        "\n",
        "print(batch.shape)\n",
        "\n",
        "print(len(test_imgs))\n",
        "\n",
        "print(test_imgs.shape)\n",
        "\n",
        "print(test_imgs[1].shape)"
      ],
      "metadata": {
        "colab": {
          "base_uri": "https://localhost:8080/"
        },
        "id": "ddi5cN9L1FJf",
        "outputId": "49e89184-60a0-454b-d764-b9c5d1b2c92e"
      },
      "execution_count": null,
      "outputs": [
        {
          "output_type": "stream",
          "name": "stdout",
          "text": [
            "(3, 28, 28)\n",
            "10000\n",
            "(10000, 28, 28)\n",
            "(28, 28)\n"
          ]
        }
      ]
    },
    {
      "cell_type": "code",
      "source": [
        "predictions_multiple = probability_model.predict(batch)\n",
        "\n",
        "print(predictions_multiple)"
      ],
      "metadata": {
        "colab": {
          "base_uri": "https://localhost:8080/"
        },
        "id": "ARxCVnKv4k0N",
        "outputId": "58d28414-1bd5-4e04-a510-35f25440e0e4"
      },
      "execution_count": null,
      "outputs": [
        {
          "output_type": "stream",
          "name": "stdout",
          "text": [
            "[[9.1375168e-06 2.6327600e-13 9.9770892e-01 3.7143577e-10 9.3147624e-04\n",
            "  4.0819163e-13 1.3504266e-03 2.5337917e-15 2.4177337e-11 2.2125623e-13]\n",
            " [7.5151404e-12 1.0000000e+00 6.8121859e-14 1.1870795e-10 4.3463609e-12\n",
            "  5.9910882e-20 1.2818747e-11 5.3231865e-25 4.9975998e-14 4.3738412e-18]\n",
            " [4.1637178e-09 9.9999845e-01 2.9926735e-11 1.5950678e-06 1.0127333e-09\n",
            "  3.1199005e-14 2.5057133e-08 5.5736557e-21 1.7643046e-12 1.6128510e-14]]\n"
          ]
        }
      ]
    },
    {
      "cell_type": "code",
      "source": [
        "model.save('fashion_minist')"
      ],
      "metadata": {
        "colab": {
          "base_uri": "https://localhost:8080/"
        },
        "id": "Agqw74V8ofVz",
        "outputId": "29cf931a-8b6f-4d67-cd7a-8c9f97c54908"
      },
      "execution_count": null,
      "outputs": [
        {
          "output_type": "stream",
          "name": "stdout",
          "text": [
            "INFO:tensorflow:Assets written to: fashion_minist/assets\n"
          ]
        }
      ]
    }
  ]
}